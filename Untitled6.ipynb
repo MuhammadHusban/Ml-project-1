{
 "cells": [
  {
   "cell_type": "code",
   "execution_count": 2,
   "id": "45401647",
   "metadata": {},
   "outputs": [],
   "source": [
    "import matplotlib.pyplot as plt\n",
    "import numpy as np\n",
    "from sklearn import datasets,linear_model\n",
    "from sklearn.metrics import mean_squared_error"
   ]
  },
  {
   "cell_type": "code",
   "execution_count": 13,
   "id": "bd9ad014",
   "metadata": {},
   "outputs": [
    {
     "name": "stdout",
     "output_type": "stream",
     "text": [
      "mean sq error is  1800.6530748085731\n"
     ]
    }
   ],
   "source": [
    "diabetes = datasets.load_diabetes()\n",
    "diabetes_X = diabetes.data\n",
    "\n",
    "\n",
    "diabetes_X_train = diabetes_X[:-20]\n",
    "diabetes_X_test = diabetes_X[-30:]\n",
    "\n",
    "diabetes_Y_train = diabetes.target[:-20]\n",
    "diabetes_Y_test = diabetes.target[-30:]\n",
    "\n",
    "model = linear_model.LinearRegression()\n",
    "model.fit(diabetes_X_train,diabetes_Y_train)\n",
    "\n",
    "diabetes_Y_predict = model.predict(diabetes_X_test)\n",
    "\n",
    "print(\"mean sq error is \", mean_squared_error(diabetes_Y_test,diabetes_Y_predict))"
   ]
  },
  {
   "cell_type": "code",
   "execution_count": 5,
   "id": "85dbf738",
   "metadata": {},
   "outputs": [
    {
     "name": "stdout",
     "output_type": "stream",
     "text": [
      "Mean squared error is:  1706.636290927643\n"
     ]
    }
   ],
   "source": [
    "diabetes = datasets.load_diabetes()\n",
    "\n",
    "diabetes_X = diabetes.data\n",
    "\n",
    "diabetes_X_train = diabetes_X[:-20]\n",
    "diabetes_X_test = diabetes_X[-50:]\n",
    "\n",
    "diabetes_y_train = diabetes.target[:-20]\n",
    "diabetes_y_test = diabetes.target[-50:]\n",
    "\n",
    "model = linear_model.LinearRegression()\n",
    "\n",
    "model.fit(diabetes_X_train, diabetes_y_train)\n",
    "\n",
    "diabetes_y_predicted = model.predict(diabetes_X_test)\n",
    "\n",
    "print(\"Mean squared error is: \", mean_squared_error(diabetes_y_test, diabetes_y_predicted))\n"
   ]
  },
  {
   "cell_type": "code",
   "execution_count": 12,
   "id": "c692c1e2",
   "metadata": {},
   "outputs": [
    {
     "ename": "AttributeError",
     "evalue": "'function' object has no attribute 'data'",
     "output_type": "error",
     "traceback": [
      "\u001b[1;31m---------------------------------------------------------------------------\u001b[0m",
      "\u001b[1;31mAttributeError\u001b[0m                            Traceback (most recent call last)",
      "Input \u001b[1;32mIn [12]\u001b[0m, in \u001b[0;36m<cell line: 2>\u001b[1;34m()\u001b[0m\n\u001b[0;32m      1\u001b[0m diabetes \u001b[38;5;241m=\u001b[39m datasets\u001b[38;5;241m.\u001b[39mload_diabetes\n\u001b[1;32m----> 2\u001b[0m diabetes_X \u001b[38;5;241m=\u001b[39m \u001b[43mdiabetes\u001b[49m\u001b[38;5;241;43m.\u001b[39;49m\u001b[43mdata\u001b[49m\n",
      "\u001b[1;31mAttributeError\u001b[0m: 'function' object has no attribute 'data'"
     ]
    }
   ],
   "source": [
    "diabetes = datasets.load_diabetes\n",
    "diabetes_X = diabetes.data"
   ]
  },
  {
   "cell_type": "code",
   "execution_count": null,
   "id": "4f83153e",
   "metadata": {},
   "outputs": [],
   "source": []
  }
 ],
 "metadata": {
  "kernelspec": {
   "display_name": "Python 3 (ipykernel)",
   "language": "python",
   "name": "python3"
  },
  "language_info": {
   "codemirror_mode": {
    "name": "ipython",
    "version": 3
   },
   "file_extension": ".py",
   "mimetype": "text/x-python",
   "name": "python",
   "nbconvert_exporter": "python",
   "pygments_lexer": "ipython3",
   "version": "3.9.12"
  }
 },
 "nbformat": 4,
 "nbformat_minor": 5
}
